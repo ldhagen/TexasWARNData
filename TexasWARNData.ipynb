{
 "cells": [
  {
   "cell_type": "code",
   "execution_count": null,
   "id": "883a40c7-45ba-40ac-b7b2-2379629ea6c8",
   "metadata": {},
   "outputs": [],
   "source": [
    "import datetime\n",
    "import os\n",
    "import pandas as pd"
   ]
  },
  {
   "cell_type": "code",
   "execution_count": null,
   "id": "3a753f3e-5f14-4fce-8f69-c196d2678ec8",
   "metadata": {},
   "outputs": [],
   "source": [
    "!wget https://data.texas.gov/api/views/8w53-c4f6/rows.csv?accessType=DOWNLOAD&api_foundry=true"
   ]
  },
  {
   "cell_type": "code",
   "execution_count": null,
   "id": "1f9483f8-4047-4d4f-ab30-8ebc33a2949d",
   "metadata": {},
   "outputs": [],
   "source": [
    "now_date = datetime.datetime.now().strftime('%d_%b_%y_%H_%M_%S')\n",
    "xxx = str('Texas_Warn' + '_' + now_date)\n",
    "print(xxx)\n",
    "os.rename(r'rows.csv?accessType=DOWNLOAD', str(xxx))"
   ]
  },
  {
   "cell_type": "code",
   "execution_count": null,
   "id": "2fa4435c-9886-46e4-a5b1-9618e0bb0364",
   "metadata": {},
   "outputs": [],
   "source": [
    "!ls -alt "
   ]
  },
  {
   "cell_type": "code",
   "execution_count": null,
   "id": "253af337-4c35-4344-9139-39e512c8a014",
   "metadata": {},
   "outputs": [],
   "source": [
    "df = pd.read_csv(str(xxx))"
   ]
  },
  {
   "cell_type": "code",
   "execution_count": null,
   "id": "0f9c5102-6349-44b9-95d6-cd7522c2e2c3",
   "metadata": {},
   "outputs": [],
   "source": [
    "print(df)"
   ]
  },
  {
   "cell_type": "code",
   "execution_count": null,
   "id": "4e310d64-3a77-4cb1-8717-15b8d1a23641",
   "metadata": {},
   "outputs": [],
   "source": []
  }
 ],
 "metadata": {
  "kernelspec": {
   "display_name": "Python 3 (ipykernel)",
   "language": "python",
   "name": "python3"
  },
  "language_info": {
   "codemirror_mode": {
    "name": "ipython",
    "version": 3
   },
   "file_extension": ".py",
   "mimetype": "text/x-python",
   "name": "python",
   "nbconvert_exporter": "python",
   "pygments_lexer": "ipython3",
   "version": "3.11.6"
  }
 },
 "nbformat": 4,
 "nbformat_minor": 5
}
