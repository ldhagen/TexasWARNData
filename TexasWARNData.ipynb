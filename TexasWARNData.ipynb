{
 "cells": [
  {
   "cell_type": "code",
   "execution_count": null,
   "id": "3a753f3e-5f14-4fce-8f69-c196d2678ec8",
   "metadata": {},
   "outputs": [],
   "source": [
    "!wget https://data.texas.gov/api/odata/v4/8w53-c4f6"
   ]
  },
  {
   "cell_type": "code",
   "execution_count": null,
   "id": "2fa4435c-9886-46e4-a5b1-9618e0bb0364",
   "metadata": {},
   "outputs": [],
   "source": [
    "!ls -alt"
   ]
  },
  {
   "cell_type": "code",
   "execution_count": null,
   "id": "61021354-fdfb-4f56-86d4-29488579f58f",
   "metadata": {},
   "outputs": [],
   "source": [
    "!file 8w53-c4f6"
   ]
  },
  {
   "cell_type": "code",
   "execution_count": null,
   "id": "22994372-b56d-4ba1-a437-f9da80570f19",
   "metadata": {},
   "outputs": [],
   "source": [
    "import pandas as pd"
   ]
  },
  {
   "cell_type": "code",
   "execution_count": null,
   "id": "253af337-4c35-4344-9139-39e512c8a014",
   "metadata": {},
   "outputs": [],
   "source": [
    "df = pd.read_json('8w53-c4f6')"
   ]
  },
  {
   "cell_type": "code",
   "execution_count": null,
   "id": "0f9c5102-6349-44b9-95d6-cd7522c2e2c3",
   "metadata": {},
   "outputs": [],
   "source": [
    "print(df)"
   ]
  },
  {
   "cell_type": "code",
   "execution_count": null,
   "id": "b07ef8ab-d7b6-4f32-8448-a5a6ef7c9d58",
   "metadata": {},
   "outputs": [],
   "source": [
    "!wget https://data.texas.gov/api/views/8w53-c4f6/rows.csv?accessType=DOWNLOAD&api_foundry=true"
   ]
  },
  {
   "cell_type": "code",
   "execution_count": null,
   "id": "e010c43c-e062-4894-9a6e-fb8bb0eb3870",
   "metadata": {},
   "outputs": [],
   "source": [
    "!ls -alt"
   ]
  },
  {
   "cell_type": "code",
   "execution_count": null,
   "id": "5d60398a-2ced-494f-b479-e22222d35160",
   "metadata": {},
   "outputs": [],
   "source": [
    "!file 'rows.csv?accessType=DOWNLOAD'"
   ]
  },
  {
   "cell_type": "code",
   "execution_count": null,
   "id": "6ca86234-afbe-43ac-8fbd-06c33a4b834c",
   "metadata": {},
   "outputs": [],
   "source": [
    "df1 = pd.read_csv('rows.csv?accessType=DOWNLOAD')"
   ]
  },
  {
   "cell_type": "code",
   "execution_count": null,
   "id": "d356145d-3a48-4dbf-95d0-c818ac76d580",
   "metadata": {},
   "outputs": [],
   "source": [
    "print(df1)"
   ]
  },
  {
   "cell_type": "code",
   "execution_count": null,
   "id": "d299bdf1-c4e0-4111-852a-ae4f93bf7db1",
   "metadata": {},
   "outputs": [],
   "source": []
  }
 ],
 "metadata": {
  "kernelspec": {
   "display_name": "Python 3 (ipykernel)",
   "language": "python",
   "name": "python3"
  },
  "language_info": {
   "codemirror_mode": {
    "name": "ipython",
    "version": 3
   },
   "file_extension": ".py",
   "mimetype": "text/x-python",
   "name": "python",
   "nbconvert_exporter": "python",
   "pygments_lexer": "ipython3",
   "version": "3.11.6"
  }
 },
 "nbformat": 4,
 "nbformat_minor": 5
}
